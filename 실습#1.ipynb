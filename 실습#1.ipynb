{
 "cells": [
  {
   "cell_type": "code",
   "execution_count": 47,
   "id": "df77478b",
   "metadata": {},
   "outputs": [
    {
     "name": "stdout",
     "output_type": "stream",
     "text": [
      "일교차가 가장 큰날 2020-05-07 로 였습니다.\n",
      "최저기온이 가장낮았던날 2020-12-30 로 -12.9 였습니다.\n",
      "최고기온이 가장높았던날 2020-06-22 로 35.4 였습니다.\n"
     ]
    }
   ],
   "source": [
    "import csv\n",
    "f =open('C:\\\\Users\\\\Lenovo\\\\OpenSourceSW\\\\seoul.csv', 'r' , encoding='cp949')\n",
    "f1 =open('C:\\\\Users\\\\Lenovo\\\\OpenSourceSW\\\\seoul.csv', 'r' , encoding='cp949')\n",
    "f2 =open('C:\\\\Users\\\\Lenovo\\\\OpenSourceSW\\\\seoul.csv', 'r' , encoding='cp949')\n",
    "data = csv.reader(f, delimiter=',')\n",
    "header = next(data)\n",
    "data1 = csv.reader(f1, delimiter=',')\n",
    "header = next(data1)\n",
    "data2 = csv.reader(f2, delimiter=',')\n",
    "header = next(data2)\n",
    "\n",
    "        \n",
    "\n",
    "\n",
    "low_temp =100\n",
    "low_date=''\n",
    "for row in data:\n",
    "    if row[-2]=='':\n",
    "        row[-2]=100\n",
    "    row[-2] = float(row[-2])\n",
    "    if low_temp > row[-2]:\n",
    "        low_date =row[0]\n",
    "        low_temp =row[-2]\n",
    "        \n",
    "max_temp =-999\n",
    "max_date=''\n",
    "for rows in data1:\n",
    "    if rows[-1]=='':\n",
    "        rows[-1]= -999\n",
    "    rows[-1] = float(rows[-1])\n",
    "    if max_temp < rows[-1]:\n",
    "        max_date =rows[0]\n",
    "        max_temp =rows[-1]\n",
    "\n",
    "ac_temp =0\n",
    "ac_date=''\n",
    "for row2 in data2:\n",
    "    if row2[-1]=='':\n",
    "        row2[-1]= 0\n",
    "    row2[-1] = float(row2[-1])\n",
    "    row2[-2] = float(row2[-2])\n",
    "    if ac_temp < row2[-1]-row2[-2]:\n",
    "        ac_date =row2[0]\n",
    "        ac_temp =row2[-1]=row2[-2]       \n",
    "        \n",
    "print ('일교차가 가장 큰날',ac_date,'로 였습니다.')\n",
    "\n",
    "print ('최저기온이 가장낮았던날',low_date,'로',low_temp,'였습니다.')\n",
    "\n",
    "print ('최고기온이 가장높았던날',max_date,'로',max_temp,'였습니다.')\n",
    "\n",
    "\n",
    "\n",
    "\n",
    "f.close()\n",
    "\n",
    "f1.close()\n",
    "\n",
    "f2.close()"
   ]
  },
  {
   "cell_type": "code",
   "execution_count": null,
   "id": "6eab9fce",
   "metadata": {},
   "outputs": [],
   "source": []
  },
  {
   "cell_type": "code",
   "execution_count": null,
   "id": "0a6d9755",
   "metadata": {},
   "outputs": [],
   "source": []
  },
  {
   "cell_type": "code",
   "execution_count": null,
   "id": "87c9504b",
   "metadata": {},
   "outputs": [],
   "source": []
  }
 ],
 "metadata": {
  "kernelspec": {
   "display_name": "Python 3",
   "language": "python",
   "name": "python3"
  },
  "language_info": {
   "codemirror_mode": {
    "name": "ipython",
    "version": 3
   },
   "file_extension": ".py",
   "mimetype": "text/x-python",
   "name": "python",
   "nbconvert_exporter": "python",
   "pygments_lexer": "ipython3",
   "version": "3.8.8"
  }
 },
 "nbformat": 4,
 "nbformat_minor": 5
}
