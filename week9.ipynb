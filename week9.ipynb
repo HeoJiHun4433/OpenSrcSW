{
 "cells": [
  {
   "cell_type": "code",
   "execution_count": 1,
   "id": "f6f1c334",
   "metadata": {},
   "outputs": [
    {
     "name": "stdout",
     "output_type": "stream",
     "text": [
      "x를 입력하시오4\n",
      "21\n"
     ]
    }
   ],
   "source": [
    "x=int(input(\"x를 입력하시오\"))\n",
    "y=3*x^2+5*x+3\n",
    "print(y)"
   ]
  },
  {
   "cell_type": "code",
   "execution_count": 2,
   "id": "7815239b",
   "metadata": {},
   "outputs": [
    {
     "name": "stdout",
     "output_type": "stream",
     "text": [
      "원의 반지름을 입력하시오4\n",
      "원의 둘레 25.12\n",
      "원의 넓이 50.24\n"
     ]
    }
   ],
   "source": [
    "pi=3.14\n",
    "x=int(input(\"원의 반지름을 입력하시오\"))\n",
    "y1=2*x*pi\n",
    "y2=pi*x*x\n",
    "print('원의 둘레',y1)\n",
    "print('원의 넓이',y2)\n"
   ]
  },
  {
   "cell_type": "code",
   "execution_count": null,
   "id": "b3fc9db2",
   "metadata": {},
   "outputs": [],
   "source": []
  }
 ],
 "metadata": {
  "kernelspec": {
   "display_name": "Python 3",
   "language": "python",
   "name": "python3"
  },
  "language_info": {
   "codemirror_mode": {
    "name": "ipython",
    "version": 3
   },
   "file_extension": ".py",
   "mimetype": "text/x-python",
   "name": "python",
   "nbconvert_exporter": "python",
   "pygments_lexer": "ipython3",
   "version": "3.9.4"
  }
 },
 "nbformat": 4,
 "nbformat_minor": 5
}
