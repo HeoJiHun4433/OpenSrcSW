{
 "cells": [
  {
   "cell_type": "code",
   "execution_count": 1,
   "id": "5953b83c",
   "metadata": {},
   "outputs": [
    {
     "name": "stdout",
     "output_type": "stream",
     "text": [
      "숫자들을 입력하시오32 12 3 77\n",
      "77\n"
     ]
    }
   ],
   "source": [
    "a= list(map(int,input('숫자들을 입력하시오').split()))\n",
    "\n",
    "print(max(a))\n"
   ]
  },
  {
   "cell_type": "code",
   "execution_count": 2,
   "id": "91db0a63",
   "metadata": {},
   "outputs": [
    {
     "name": "stdout",
     "output_type": "stream",
     "text": [
      "abc def\n",
      "efg bcd \n",
      "efg bcd\n",
      "abc def \n"
     ]
    }
   ],
   "source": [
    "\n",
    "secret=\"\"\n",
    "unsecret=\"\"\n",
    "b=input().split()\n",
    "b.reverse()\n",
    "                   \n",
    "c=\"\"\n",
    "ac=0\n",
    "cd=\"\"\n",
    "for i in range(len(b)):\n",
    "    c=b[i]\n",
    "    for j in range(len(c)):\n",
    "        ac=ord(c[j])\n",
    "        ac+=1\n",
    "        cd= chr(ac)\n",
    "        secret+=cd\n",
    "    secret+=' '\n",
    "print(secret)\n",
    "\n",
    "b=input().split()\n",
    "b.reverse()\n",
    "  \n",
    "for i in range(len(b)):\n",
    "    c=b[i]\n",
    "    for j in range(len(c)):\n",
    "        ac=ord(c[j])\n",
    "        ac-=1\n",
    "        cd= chr(ac)\n",
    "        unsecret+=cd\n",
    "    unsecret+=' '\n",
    "print(unsecret)"
   ]
  },
  {
   "cell_type": "code",
   "execution_count": null,
   "id": "dadddd2f",
   "metadata": {},
   "outputs": [
    {
     "name": "stdout",
     "output_type": "stream",
     "text": [
      "이름a\n",
      "번호1\n",
      "이름b\n",
      "번호2\n",
      "이름c\n",
      "번호3\n",
      "이름d\n",
      "번호4\n",
      "이름e\n",
      "번호5\n",
      "이름f\n",
      "번호6\n",
      "이름g\n",
      "번호7\n",
      "이름h\n",
      "번호8\n",
      "이름i\n",
      "번호9\n",
      "이름j\n",
      "번호10\n",
      "이름으로 찾으면 11\n",
      "이름a\n",
      "1\n",
      "이름으로 찾으면 13\n",
      "번호5\n",
      "e\n"
     ]
    }
   ],
   "source": [
    "a={}\n",
    "for i in range(10):\n",
    "    j=input('이름')\n",
    "    a[j]=input('번호')\n",
    "b={v:k for k, v in a.items()}\n",
    "k=1\n",
    "while(1):\n",
    "    if k==int(input('이름으로 찾으면 1')):\n",
    "        c=input('이름')\n",
    "        print(a[c])\n",
    "    else:\n",
    "        d=input('번호')\n",
    "        print(b[d])\n",
    "        "
   ]
  },
  {
   "cell_type": "code",
   "execution_count": null,
   "id": "579ded72",
   "metadata": {},
   "outputs": [],
   "source": []
  }
 ],
 "metadata": {
  "kernelspec": {
   "display_name": "Python 3",
   "language": "python",
   "name": "python3"
  },
  "language_info": {
   "codemirror_mode": {
    "name": "ipython",
    "version": 3
   },
   "file_extension": ".py",
   "mimetype": "text/x-python",
   "name": "python",
   "nbconvert_exporter": "python",
   "pygments_lexer": "ipython3",
   "version": "3.9.4"
  }
 },
 "nbformat": 4,
 "nbformat_minor": 5
}
